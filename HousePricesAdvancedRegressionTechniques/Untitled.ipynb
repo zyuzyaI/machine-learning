{
 "cells": [
  {
   "cell_type": "code",
   "execution_count": 6,
   "metadata": {},
   "outputs": [
    {
     "data": {
      "text/plain": [
       "1460"
      ]
     },
     "execution_count": 6,
     "metadata": {},
     "output_type": "execute_result"
    }
   ],
   "source": [
    "import pandas as pd\n",
    "data = pd.read_csv('train.csv')\n",
    "len(data)"
   ]
  },
  {
   "cell_type": "code",
   "execution_count": 7,
   "metadata": {},
   "outputs": [
    {
     "data": {
      "text/html": [
       "<div>\n",
       "<style scoped>\n",
       "    .dataframe tbody tr th:only-of-type {\n",
       "        vertical-align: middle;\n",
       "    }\n",
       "\n",
       "    .dataframe tbody tr th {\n",
       "        vertical-align: top;\n",
       "    }\n",
       "\n",
       "    .dataframe thead th {\n",
       "        text-align: right;\n",
       "    }\n",
       "</style>\n",
       "<table border=\"1\" class=\"dataframe\">\n",
       "  <thead>\n",
       "    <tr style=\"text-align: right;\">\n",
       "      <th></th>\n",
       "      <th>Id</th>\n",
       "      <th>MSSubClass</th>\n",
       "      <th>MSZoning</th>\n",
       "      <th>LotFrontage</th>\n",
       "      <th>LotArea</th>\n",
       "      <th>Street</th>\n",
       "      <th>Alley</th>\n",
       "      <th>LotShape</th>\n",
       "      <th>LandContour</th>\n",
       "      <th>Utilities</th>\n",
       "      <th>...</th>\n",
       "      <th>PoolArea</th>\n",
       "      <th>PoolQC</th>\n",
       "      <th>Fence</th>\n",
       "      <th>MiscFeature</th>\n",
       "      <th>MiscVal</th>\n",
       "      <th>MoSold</th>\n",
       "      <th>YrSold</th>\n",
       "      <th>SaleType</th>\n",
       "      <th>SaleCondition</th>\n",
       "      <th>SalePrice</th>\n",
       "    </tr>\n",
       "  </thead>\n",
       "  <tbody>\n",
       "    <tr>\n",
       "      <th>0</th>\n",
       "      <td>1</td>\n",
       "      <td>60</td>\n",
       "      <td>RL</td>\n",
       "      <td>65.0</td>\n",
       "      <td>8450</td>\n",
       "      <td>Pave</td>\n",
       "      <td>NaN</td>\n",
       "      <td>Reg</td>\n",
       "      <td>Lvl</td>\n",
       "      <td>AllPub</td>\n",
       "      <td>...</td>\n",
       "      <td>0</td>\n",
       "      <td>NaN</td>\n",
       "      <td>NaN</td>\n",
       "      <td>NaN</td>\n",
       "      <td>0</td>\n",
       "      <td>2</td>\n",
       "      <td>2008</td>\n",
       "      <td>WD</td>\n",
       "      <td>Normal</td>\n",
       "      <td>208500</td>\n",
       "    </tr>\n",
       "    <tr>\n",
       "      <th>1</th>\n",
       "      <td>2</td>\n",
       "      <td>20</td>\n",
       "      <td>RL</td>\n",
       "      <td>80.0</td>\n",
       "      <td>9600</td>\n",
       "      <td>Pave</td>\n",
       "      <td>NaN</td>\n",
       "      <td>Reg</td>\n",
       "      <td>Lvl</td>\n",
       "      <td>AllPub</td>\n",
       "      <td>...</td>\n",
       "      <td>0</td>\n",
       "      <td>NaN</td>\n",
       "      <td>NaN</td>\n",
       "      <td>NaN</td>\n",
       "      <td>0</td>\n",
       "      <td>5</td>\n",
       "      <td>2007</td>\n",
       "      <td>WD</td>\n",
       "      <td>Normal</td>\n",
       "      <td>181500</td>\n",
       "    </tr>\n",
       "    <tr>\n",
       "      <th>2</th>\n",
       "      <td>3</td>\n",
       "      <td>60</td>\n",
       "      <td>RL</td>\n",
       "      <td>68.0</td>\n",
       "      <td>11250</td>\n",
       "      <td>Pave</td>\n",
       "      <td>NaN</td>\n",
       "      <td>IR1</td>\n",
       "      <td>Lvl</td>\n",
       "      <td>AllPub</td>\n",
       "      <td>...</td>\n",
       "      <td>0</td>\n",
       "      <td>NaN</td>\n",
       "      <td>NaN</td>\n",
       "      <td>NaN</td>\n",
       "      <td>0</td>\n",
       "      <td>9</td>\n",
       "      <td>2008</td>\n",
       "      <td>WD</td>\n",
       "      <td>Normal</td>\n",
       "      <td>223500</td>\n",
       "    </tr>\n",
       "    <tr>\n",
       "      <th>3</th>\n",
       "      <td>4</td>\n",
       "      <td>70</td>\n",
       "      <td>RL</td>\n",
       "      <td>60.0</td>\n",
       "      <td>9550</td>\n",
       "      <td>Pave</td>\n",
       "      <td>NaN</td>\n",
       "      <td>IR1</td>\n",
       "      <td>Lvl</td>\n",
       "      <td>AllPub</td>\n",
       "      <td>...</td>\n",
       "      <td>0</td>\n",
       "      <td>NaN</td>\n",
       "      <td>NaN</td>\n",
       "      <td>NaN</td>\n",
       "      <td>0</td>\n",
       "      <td>2</td>\n",
       "      <td>2006</td>\n",
       "      <td>WD</td>\n",
       "      <td>Abnorml</td>\n",
       "      <td>140000</td>\n",
       "    </tr>\n",
       "    <tr>\n",
       "      <th>4</th>\n",
       "      <td>5</td>\n",
       "      <td>60</td>\n",
       "      <td>RL</td>\n",
       "      <td>84.0</td>\n",
       "      <td>14260</td>\n",
       "      <td>Pave</td>\n",
       "      <td>NaN</td>\n",
       "      <td>IR1</td>\n",
       "      <td>Lvl</td>\n",
       "      <td>AllPub</td>\n",
       "      <td>...</td>\n",
       "      <td>0</td>\n",
       "      <td>NaN</td>\n",
       "      <td>NaN</td>\n",
       "      <td>NaN</td>\n",
       "      <td>0</td>\n",
       "      <td>12</td>\n",
       "      <td>2008</td>\n",
       "      <td>WD</td>\n",
       "      <td>Normal</td>\n",
       "      <td>250000</td>\n",
       "    </tr>\n",
       "  </tbody>\n",
       "</table>\n",
       "<p>5 rows × 81 columns</p>\n",
       "</div>"
      ],
      "text/plain": [
       "   Id  MSSubClass MSZoning  LotFrontage  LotArea Street Alley LotShape  \\\n",
       "0   1          60       RL         65.0     8450   Pave   NaN      Reg   \n",
       "1   2          20       RL         80.0     9600   Pave   NaN      Reg   \n",
       "2   3          60       RL         68.0    11250   Pave   NaN      IR1   \n",
       "3   4          70       RL         60.0     9550   Pave   NaN      IR1   \n",
       "4   5          60       RL         84.0    14260   Pave   NaN      IR1   \n",
       "\n",
       "  LandContour Utilities  ... PoolArea PoolQC Fence MiscFeature MiscVal MoSold  \\\n",
       "0         Lvl    AllPub  ...        0    NaN   NaN         NaN       0      2   \n",
       "1         Lvl    AllPub  ...        0    NaN   NaN         NaN       0      5   \n",
       "2         Lvl    AllPub  ...        0    NaN   NaN         NaN       0      9   \n",
       "3         Lvl    AllPub  ...        0    NaN   NaN         NaN       0      2   \n",
       "4         Lvl    AllPub  ...        0    NaN   NaN         NaN       0     12   \n",
       "\n",
       "  YrSold  SaleType  SaleCondition  SalePrice  \n",
       "0   2008        WD         Normal     208500  \n",
       "1   2007        WD         Normal     181500  \n",
       "2   2008        WD         Normal     223500  \n",
       "3   2006        WD        Abnorml     140000  \n",
       "4   2008        WD         Normal     250000  \n",
       "\n",
       "[5 rows x 81 columns]"
      ]
     },
     "execution_count": 7,
     "metadata": {},
     "output_type": "execute_result"
    }
   ],
   "source": [
    "data.head()"
   ]
  },
  {
   "cell_type": "code",
   "execution_count": 8,
   "metadata": {},
   "outputs": [
    {
     "data": {
      "text/plain": [
       "['Id',\n",
       " 'MSSubClass',\n",
       " 'MSZoning',\n",
       " 'LotFrontage',\n",
       " 'LotArea',\n",
       " 'Street',\n",
       " 'Alley',\n",
       " 'LotShape',\n",
       " 'LandContour',\n",
       " 'Utilities',\n",
       " 'LotConfig',\n",
       " 'LandSlope',\n",
       " 'Neighborhood',\n",
       " 'Condition1',\n",
       " 'Condition2',\n",
       " 'BldgType',\n",
       " 'HouseStyle',\n",
       " 'OverallQual',\n",
       " 'OverallCond',\n",
       " 'YearBuilt',\n",
       " 'YearRemodAdd',\n",
       " 'RoofStyle',\n",
       " 'RoofMatl',\n",
       " 'Exterior1st',\n",
       " 'Exterior2nd',\n",
       " 'MasVnrType',\n",
       " 'MasVnrArea',\n",
       " 'ExterQual',\n",
       " 'ExterCond',\n",
       " 'Foundation',\n",
       " 'BsmtQual',\n",
       " 'BsmtCond',\n",
       " 'BsmtExposure',\n",
       " 'BsmtFinType1',\n",
       " 'BsmtFinSF1',\n",
       " 'BsmtFinType2',\n",
       " 'BsmtFinSF2',\n",
       " 'BsmtUnfSF',\n",
       " 'TotalBsmtSF',\n",
       " 'Heating',\n",
       " 'HeatingQC',\n",
       " 'CentralAir',\n",
       " 'Electrical',\n",
       " '1stFlrSF',\n",
       " '2ndFlrSF',\n",
       " 'LowQualFinSF',\n",
       " 'GrLivArea',\n",
       " 'BsmtFullBath',\n",
       " 'BsmtHalfBath',\n",
       " 'FullBath',\n",
       " 'HalfBath',\n",
       " 'BedroomAbvGr',\n",
       " 'KitchenAbvGr',\n",
       " 'KitchenQual',\n",
       " 'TotRmsAbvGrd',\n",
       " 'Functional',\n",
       " 'Fireplaces',\n",
       " 'FireplaceQu',\n",
       " 'GarageType',\n",
       " 'GarageYrBlt',\n",
       " 'GarageFinish',\n",
       " 'GarageCars',\n",
       " 'GarageArea',\n",
       " 'GarageQual',\n",
       " 'GarageCond',\n",
       " 'PavedDrive',\n",
       " 'WoodDeckSF',\n",
       " 'OpenPorchSF',\n",
       " 'EnclosedPorch',\n",
       " '3SsnPorch',\n",
       " 'ScreenPorch',\n",
       " 'PoolArea',\n",
       " 'PoolQC',\n",
       " 'Fence',\n",
       " 'MiscFeature',\n",
       " 'MiscVal',\n",
       " 'MoSold',\n",
       " 'YrSold',\n",
       " 'SaleType',\n",
       " 'SaleCondition',\n",
       " 'SalePrice']"
      ]
     },
     "execution_count": 8,
     "metadata": {},
     "output_type": "execute_result"
    }
   ],
   "source": [
    "list(data.columns)"
   ]
  },
  {
   "cell_type": "code",
   "execution_count": 9,
   "metadata": {},
   "outputs": [],
   "source": [
    "data['MasVnrArea'] = data['MasVnrArea'].fillna(0)"
   ]
  },
  {
   "cell_type": "code",
   "execution_count": 10,
   "metadata": {},
   "outputs": [],
   "source": [
    "data['MSZoning'] = data['MSZoning'].fillna('RL')"
   ]
  },
  {
   "cell_type": "code",
   "execution_count": 11,
   "metadata": {},
   "outputs": [],
   "source": [
    "data['LotFrontage'] = data['LotFrontage'].fillna(0)"
   ]
  },
  {
   "cell_type": "code",
   "execution_count": 12,
   "metadata": {},
   "outputs": [],
   "source": [
    "data = data.drop(['Alley'], axis='columns')"
   ]
  },
  {
   "cell_type": "code",
   "execution_count": 13,
   "metadata": {},
   "outputs": [],
   "source": [
    "data = data.drop(['PoolQC'], axis='columns')"
   ]
  },
  {
   "cell_type": "code",
   "execution_count": 14,
   "metadata": {},
   "outputs": [],
   "source": [
    "data['BsmtQual'] = data['BsmtQual'].fillna('N')"
   ]
  },
  {
   "cell_type": "code",
   "execution_count": 15,
   "metadata": {},
   "outputs": [],
   "source": [
    "data['BsmtExposure'] = data['BsmtExposure'].fillna('N')"
   ]
  },
  {
   "cell_type": "code",
   "execution_count": 16,
   "metadata": {},
   "outputs": [],
   "source": [
    "data['BsmtFinType1'] = data['BsmtFinType1'].fillna('Unf')"
   ]
  },
  {
   "cell_type": "code",
   "execution_count": 17,
   "metadata": {},
   "outputs": [],
   "source": [
    "data['BsmtCond'] = data['BsmtCond'].fillna('N')"
   ]
  },
  {
   "cell_type": "code",
   "execution_count": 18,
   "metadata": {},
   "outputs": [],
   "source": [
    "data['BsmtFinType2'] = data['BsmtFinType2'].fillna('Unf')"
   ]
  },
  {
   "cell_type": "code",
   "execution_count": 19,
   "metadata": {},
   "outputs": [],
   "source": [
    "data['Electrical'] = data['Electrical'].fillna('SBrkr')"
   ]
  },
  {
   "cell_type": "code",
   "execution_count": 20,
   "metadata": {},
   "outputs": [],
   "source": [
    "data['FireplaceQu'] = data['FireplaceQu'].fillna('N')"
   ]
  },
  {
   "cell_type": "code",
   "execution_count": 21,
   "metadata": {},
   "outputs": [],
   "source": [
    "data['GarageType'] = data['GarageType'].fillna('N')"
   ]
  },
  {
   "cell_type": "code",
   "execution_count": 22,
   "metadata": {},
   "outputs": [],
   "source": [
    "data['GarageYrBlt'] = data['GarageYrBlt'].fillna(0)"
   ]
  },
  {
   "cell_type": "code",
   "execution_count": 23,
   "metadata": {},
   "outputs": [],
   "source": [
    "data['GarageFinish'] = data['GarageFinish'].fillna('N')"
   ]
  },
  {
   "cell_type": "code",
   "execution_count": 24,
   "metadata": {},
   "outputs": [],
   "source": [
    "data['GarageQual'] = data['GarageQual'].fillna('N')"
   ]
  },
  {
   "cell_type": "code",
   "execution_count": 25,
   "metadata": {},
   "outputs": [],
   "source": [
    "data['GarageCond'] = data['GarageCond'].fillna('N')"
   ]
  },
  {
   "cell_type": "code",
   "execution_count": 26,
   "metadata": {},
   "outputs": [],
   "source": [
    "data = data.drop(['Fence'], axis='columns')"
   ]
  },
  {
   "cell_type": "code",
   "execution_count": 27,
   "metadata": {},
   "outputs": [],
   "source": [
    "data['MasVnrType'] = data['MasVnrType'].fillna('N')"
   ]
  },
  {
   "cell_type": "code",
   "execution_count": 28,
   "metadata": {},
   "outputs": [],
   "source": [
    "data = data.drop(['MiscFeature'], axis='columns')"
   ]
  },
  {
   "cell_type": "code",
   "execution_count": 29,
   "metadata": {},
   "outputs": [
    {
     "data": {
      "text/plain": [
       "0    208500\n",
       "1    181500\n",
       "2    223500\n",
       "3    140000\n",
       "4    250000\n",
       "Name: SalePrice, dtype: int64"
      ]
     },
     "execution_count": 29,
     "metadata": {},
     "output_type": "execute_result"
    }
   ],
   "source": [
    "y = data['SalePrice']\n",
    "y.head()"
   ]
  },
  {
   "cell_type": "code",
   "execution_count": 30,
   "metadata": {},
   "outputs": [],
   "source": [
    "data = data.drop(['SalePrice'], axis='columns')"
   ]
  },
  {
   "cell_type": "code",
   "execution_count": 31,
   "metadata": {},
   "outputs": [],
   "source": [
    "data = data.drop(['Id'], axis='columns')"
   ]
  },
  {
   "cell_type": "code",
   "execution_count": 32,
   "metadata": {},
   "outputs": [],
   "source": [
    "from sklearn.preprocessing import LabelEncoder"
   ]
  },
  {
   "cell_type": "code",
   "execution_count": 33,
   "metadata": {},
   "outputs": [],
   "source": [
    "le_MSSubClass = LabelEncoder()\n",
    "data['MSSubClass_m'] = le_MSSubClass.fit_transform(data['MSSubClass'])\n",
    "data = data.drop(['MSSubClass'], axis='columns')"
   ]
  },
  {
   "cell_type": "code",
   "execution_count": 34,
   "metadata": {},
   "outputs": [],
   "source": [
    "le_Street = LabelEncoder()\n",
    "data['Street_m'] = le_MSSubClass.fit_transform(data['Street'])\n",
    "data = data.drop(['Street'], axis='columns')"
   ]
  },
  {
   "cell_type": "code",
   "execution_count": 35,
   "metadata": {},
   "outputs": [],
   "source": [
    "le_LotShape = LabelEncoder()\n",
    "data['LotShape_m'] = le_MSSubClass.fit_transform(data['LotShape'])\n",
    "data = data.drop(['LotShape'], axis='columns')"
   ]
  },
  {
   "cell_type": "code",
   "execution_count": 36,
   "metadata": {},
   "outputs": [],
   "source": [
    "le_LandContour = LabelEncoder()\n",
    "data['LandContour_m'] = le_MSSubClass.fit_transform(data['LandContour'])\n",
    "data = data.drop(['LandContour'], axis='columns')"
   ]
  },
  {
   "cell_type": "code",
   "execution_count": 37,
   "metadata": {},
   "outputs": [],
   "source": [
    "le_Utilities = LabelEncoder()\n",
    "data['Utilities_m'] = le_MSSubClass.fit_transform(data['Utilities'])\n",
    "data = data.drop(['Utilities'], axis='columns')"
   ]
  },
  {
   "cell_type": "code",
   "execution_count": 38,
   "metadata": {},
   "outputs": [],
   "source": [
    "le_LotConfig = LabelEncoder()\n",
    "data['LotConfig_m'] = le_MSSubClass.fit_transform(data['LotConfig'])\n",
    "data = data.drop(['LotConfig'], axis='columns')"
   ]
  },
  {
   "cell_type": "code",
   "execution_count": 39,
   "metadata": {},
   "outputs": [],
   "source": [
    "le_LandSlope = LabelEncoder()\n",
    "data['LandSlope_m'] = le_MSSubClass.fit_transform(data['LandSlope'])\n",
    "data = data.drop(['LandSlope'], axis='columns')"
   ]
  },
  {
   "cell_type": "code",
   "execution_count": 40,
   "metadata": {},
   "outputs": [],
   "source": [
    "le_Neighborhood = LabelEncoder()\n",
    "data['Neighborhood_m'] = le_MSSubClass.fit_transform(data['Neighborhood'])\n",
    "data = data.drop(['Neighborhood'], axis='columns')"
   ]
  },
  {
   "cell_type": "code",
   "execution_count": 41,
   "metadata": {},
   "outputs": [],
   "source": [
    "le_Condition1 = LabelEncoder()\n",
    "data['Condition1_m'] = le_MSSubClass.fit_transform(data['Condition1'])\n",
    "data = data.drop(['Condition1'], axis='columns')"
   ]
  },
  {
   "cell_type": "code",
   "execution_count": 42,
   "metadata": {},
   "outputs": [],
   "source": [
    "le_Condition1 = LabelEncoder()\n",
    "data['Condition2_m'] = le_MSSubClass.fit_transform(data['Condition2'])\n",
    "data = data.drop(['Condition2'], axis='columns')"
   ]
  },
  {
   "cell_type": "code",
   "execution_count": 43,
   "metadata": {},
   "outputs": [],
   "source": [
    "le_BldgType = LabelEncoder()\n",
    "data['BldgType_m'] = le_MSSubClass.fit_transform(data['BldgType'])\n",
    "data = data.drop(['BldgType'], axis='columns')"
   ]
  },
  {
   "cell_type": "code",
   "execution_count": 44,
   "metadata": {},
   "outputs": [],
   "source": [
    "le_HouseStyle = LabelEncoder()\n",
    "data['HouseStyle_m'] = le_MSSubClass.fit_transform(data['HouseStyle'])\n",
    "data = data.drop(['HouseStyle'], axis='columns')"
   ]
  },
  {
   "cell_type": "code",
   "execution_count": 45,
   "metadata": {},
   "outputs": [],
   "source": [
    "le_HouseStyle = LabelEncoder()\n",
    "data['RoofStyle_m'] = le_MSSubClass.fit_transform(data['RoofStyle'])\n",
    "data = data.drop(['RoofStyle'], axis='columns')"
   ]
  },
  {
   "cell_type": "code",
   "execution_count": 46,
   "metadata": {},
   "outputs": [],
   "source": [
    "le_HouseStyle = LabelEncoder()\n",
    "data['RoofMatl_m'] = le_MSSubClass.fit_transform(data['RoofMatl'])\n",
    "data = data.drop(['RoofMatl'], axis='columns')"
   ]
  },
  {
   "cell_type": "code",
   "execution_count": 47,
   "metadata": {},
   "outputs": [],
   "source": [
    "le_HouseStyle = LabelEncoder()\n",
    "data['Exterior1st_m'] = le_MSSubClass.fit_transform(data['Exterior1st'])\n",
    "data = data.drop(['Exterior1st'], axis='columns')"
   ]
  },
  {
   "cell_type": "code",
   "execution_count": 48,
   "metadata": {},
   "outputs": [],
   "source": [
    "le_HouseStyle = LabelEncoder()\n",
    "data['Exterior2nd_m'] = le_MSSubClass.fit_transform(data['Exterior2nd'])\n",
    "data = data.drop(['Exterior2nd'], axis='columns')"
   ]
  },
  {
   "cell_type": "code",
   "execution_count": 49,
   "metadata": {},
   "outputs": [],
   "source": [
    "le_HouseStyle = LabelEncoder()\n",
    "data['MasVnrType_m'] = le_MSSubClass.fit_transform(data['MasVnrType'])\n",
    "data = data.drop(['MasVnrType'], axis='columns')"
   ]
  },
  {
   "cell_type": "code",
   "execution_count": 50,
   "metadata": {},
   "outputs": [],
   "source": [
    "le_HouseStyle = LabelEncoder()\n",
    "data['ExterQual_m'] = le_MSSubClass.fit_transform(data['ExterQual'])\n",
    "data = data.drop(['ExterQual'], axis='columns')"
   ]
  },
  {
   "cell_type": "code",
   "execution_count": 51,
   "metadata": {},
   "outputs": [],
   "source": [
    "le_HouseStyle = LabelEncoder()\n",
    "data['ExterCond_m'] = le_MSSubClass.fit_transform(data['ExterCond'])\n",
    "data = data.drop(['ExterCond'], axis='columns')"
   ]
  },
  {
   "cell_type": "code",
   "execution_count": 52,
   "metadata": {},
   "outputs": [],
   "source": [
    "le_HouseStyle = LabelEncoder()\n",
    "data['Foundation_m'] = le_MSSubClass.fit_transform(data['Foundation'])\n",
    "data = data.drop(['Foundation'], axis='columns')"
   ]
  },
  {
   "cell_type": "code",
   "execution_count": 53,
   "metadata": {},
   "outputs": [],
   "source": [
    "le_HouseStyle = LabelEncoder()\n",
    "data['BsmtQual_m'] = le_MSSubClass.fit_transform(data['BsmtQual'])\n",
    "data = data.drop(['BsmtQual'], axis='columns')"
   ]
  },
  {
   "cell_type": "code",
   "execution_count": 54,
   "metadata": {},
   "outputs": [],
   "source": [
    "le_HouseStyle = LabelEncoder()\n",
    "data['BsmtCond_m'] = le_MSSubClass.fit_transform(data['BsmtCond'])\n",
    "data = data.drop(['BsmtCond'], axis='columns')"
   ]
  },
  {
   "cell_type": "code",
   "execution_count": 55,
   "metadata": {},
   "outputs": [],
   "source": [
    "le_HouseStyle = LabelEncoder()\n",
    "data['BsmtExposure_m'] = le_MSSubClass.fit_transform(data['BsmtExposure'])\n",
    "data = data.drop(['BsmtExposure'], axis='columns')"
   ]
  },
  {
   "cell_type": "code",
   "execution_count": 56,
   "metadata": {},
   "outputs": [],
   "source": [
    "le_HouseStyle = LabelEncoder()\n",
    "data['BsmtFinType1_m'] = le_MSSubClass.fit_transform(data['BsmtFinType1'])\n",
    "data = data.drop(['BsmtFinType1'], axis='columns')"
   ]
  },
  {
   "cell_type": "code",
   "execution_count": 57,
   "metadata": {},
   "outputs": [],
   "source": [
    "le_HouseStyle = LabelEncoder()\n",
    "data['BsmtFinType2_m'] = le_MSSubClass.fit_transform(data['BsmtFinType2'])\n",
    "data = data.drop(['BsmtFinType2'], axis='columns')"
   ]
  },
  {
   "cell_type": "code",
   "execution_count": 58,
   "metadata": {},
   "outputs": [],
   "source": [
    "le_HouseStyle = LabelEncoder()\n",
    "data['Heating_m'] = le_MSSubClass.fit_transform(data['Heating'])\n",
    "data = data.drop(['Heating'], axis='columns')"
   ]
  },
  {
   "cell_type": "code",
   "execution_count": 59,
   "metadata": {},
   "outputs": [],
   "source": [
    "le_HouseStyle = LabelEncoder()\n",
    "data['HeatingQC_m'] = le_MSSubClass.fit_transform(data['HeatingQC'])\n",
    "data = data.drop(['HeatingQC'], axis='columns')"
   ]
  },
  {
   "cell_type": "code",
   "execution_count": 60,
   "metadata": {},
   "outputs": [],
   "source": [
    "le_HouseStyle = LabelEncoder()\n",
    "data['CentralAir_m'] = le_MSSubClass.fit_transform(data['CentralAir'])\n",
    "data = data.drop(['CentralAir'], axis='columns')"
   ]
  },
  {
   "cell_type": "code",
   "execution_count": 61,
   "metadata": {},
   "outputs": [],
   "source": [
    "le_HouseStyle = LabelEncoder()\n",
    "data['Electrical_m'] = le_MSSubClass.fit_transform(data['Electrical'])\n",
    "data = data.drop(['Electrical'], axis='columns')"
   ]
  },
  {
   "cell_type": "code",
   "execution_count": 62,
   "metadata": {},
   "outputs": [],
   "source": [
    "le_HouseStyle = LabelEncoder()\n",
    "data['KitchenQual_m'] = le_MSSubClass.fit_transform(data['KitchenQual'])\n",
    "data = data.drop(['KitchenQual'], axis='columns')"
   ]
  },
  {
   "cell_type": "code",
   "execution_count": 63,
   "metadata": {},
   "outputs": [],
   "source": [
    "le_HouseStyle = LabelEncoder()\n",
    "data['Functional_m'] = le_MSSubClass.fit_transform(data['Functional'])\n",
    "data = data.drop(['Functional'], axis='columns')"
   ]
  },
  {
   "cell_type": "code",
   "execution_count": 64,
   "metadata": {},
   "outputs": [],
   "source": [
    "le_HouseStyle = LabelEncoder()\n",
    "data['FireplaceQu_m'] = le_MSSubClass.fit_transform(data['FireplaceQu'])\n",
    "data = data.drop(['FireplaceQu'], axis='columns')"
   ]
  },
  {
   "cell_type": "code",
   "execution_count": 65,
   "metadata": {},
   "outputs": [],
   "source": [
    "le_HouseStyle = LabelEncoder()\n",
    "data['GarageType_m'] = le_MSSubClass.fit_transform(data['GarageType'])\n",
    "data = data.drop(['GarageType'], axis='columns')"
   ]
  },
  {
   "cell_type": "code",
   "execution_count": 66,
   "metadata": {},
   "outputs": [],
   "source": [
    "le_HouseStyle = LabelEncoder()\n",
    "data['GarageFinish_m'] = le_MSSubClass.fit_transform(data['GarageFinish'])\n",
    "data = data.drop(['GarageFinish'], axis='columns')"
   ]
  },
  {
   "cell_type": "code",
   "execution_count": 67,
   "metadata": {},
   "outputs": [],
   "source": [
    "le_HouseStyle = LabelEncoder()\n",
    "data['GarageQual_m'] = le_MSSubClass.fit_transform(data['GarageQual'])\n",
    "data = data.drop(['GarageQual'], axis='columns')"
   ]
  },
  {
   "cell_type": "code",
   "execution_count": 68,
   "metadata": {},
   "outputs": [],
   "source": [
    "le_HouseStyle = LabelEncoder()\n",
    "data['GarageCond_m'] = le_MSSubClass.fit_transform(data['GarageCond'])\n",
    "data = data.drop(['GarageCond'], axis='columns')"
   ]
  },
  {
   "cell_type": "code",
   "execution_count": 69,
   "metadata": {},
   "outputs": [],
   "source": [
    "le_HouseStyle = LabelEncoder()\n",
    "data['PavedDrive_m'] = le_MSSubClass.fit_transform(data['PavedDrive'])\n",
    "data = data.drop(['PavedDrive'], axis='columns')"
   ]
  },
  {
   "cell_type": "code",
   "execution_count": 70,
   "metadata": {},
   "outputs": [],
   "source": [
    "le_HouseStyle = LabelEncoder()\n",
    "data['SaleType_m'] = le_MSSubClass.fit_transform(data['SaleType'])\n",
    "data = data.drop(['SaleType'], axis='columns')"
   ]
  },
  {
   "cell_type": "code",
   "execution_count": 71,
   "metadata": {},
   "outputs": [],
   "source": [
    "le_HouseStyle = LabelEncoder()\n",
    "data['SaleCondition_m'] = le_MSSubClass.fit_transform(data['SaleCondition'])\n",
    "data = data.drop(['SaleCondition'], axis='columns')"
   ]
  },
  {
   "cell_type": "code",
   "execution_count": 72,
   "metadata": {},
   "outputs": [],
   "source": [
    "le_HouseStyle = LabelEncoder()\n",
    "data['MSZoning_m'] = le_MSSubClass.fit_transform(data['MSZoning'])\n",
    "data = data.drop(['MSZoning'], axis='columns')"
   ]
  },
  {
   "cell_type": "code",
   "execution_count": 73,
   "metadata": {},
   "outputs": [
    {
     "data": {
      "text/plain": [
       "LotFrontage        0\n",
       "LotArea            0\n",
       "OverallQual        0\n",
       "OverallCond        0\n",
       "YearBuilt          0\n",
       "YearRemodAdd       0\n",
       "MasVnrArea         0\n",
       "BsmtFinSF1         0\n",
       "BsmtFinSF2         0\n",
       "BsmtUnfSF          0\n",
       "TotalBsmtSF        0\n",
       "1stFlrSF           0\n",
       "2ndFlrSF           0\n",
       "LowQualFinSF       0\n",
       "GrLivArea          0\n",
       "BsmtFullBath       0\n",
       "BsmtHalfBath       0\n",
       "FullBath           0\n",
       "HalfBath           0\n",
       "BedroomAbvGr       0\n",
       "KitchenAbvGr       0\n",
       "TotRmsAbvGrd       0\n",
       "Fireplaces         0\n",
       "GarageYrBlt        0\n",
       "GarageCars         0\n",
       "GarageArea         0\n",
       "WoodDeckSF         0\n",
       "OpenPorchSF        0\n",
       "EnclosedPorch      0\n",
       "3SsnPorch          0\n",
       "                  ..\n",
       "BldgType_m         0\n",
       "HouseStyle_m       0\n",
       "RoofStyle_m        0\n",
       "RoofMatl_m         0\n",
       "Exterior1st_m      0\n",
       "Exterior2nd_m      0\n",
       "MasVnrType_m       0\n",
       "ExterQual_m        0\n",
       "ExterCond_m        0\n",
       "Foundation_m       0\n",
       "BsmtQual_m         0\n",
       "BsmtCond_m         0\n",
       "BsmtExposure_m     0\n",
       "BsmtFinType1_m     0\n",
       "BsmtFinType2_m     0\n",
       "Heating_m          0\n",
       "HeatingQC_m        0\n",
       "CentralAir_m       0\n",
       "Electrical_m       0\n",
       "KitchenQual_m      0\n",
       "Functional_m       0\n",
       "FireplaceQu_m      0\n",
       "GarageType_m       0\n",
       "GarageFinish_m     0\n",
       "GarageQual_m       0\n",
       "GarageCond_m       0\n",
       "PavedDrive_m       0\n",
       "SaleType_m         0\n",
       "SaleCondition_m    0\n",
       "MSZoning_m         0\n",
       "Length: 75, dtype: int64"
      ]
     },
     "execution_count": 73,
     "metadata": {},
     "output_type": "execute_result"
    }
   ],
   "source": [
    "data.isna().sum()"
   ]
  },
  {
   "cell_type": "code",
   "execution_count": 74,
   "metadata": {},
   "outputs": [],
   "source": [
    "from sklearn.model_selection import cross_val_score"
   ]
  },
  {
   "cell_type": "code",
   "execution_count": 75,
   "metadata": {},
   "outputs": [],
   "source": [
    "from sklearn.ensemble import RandomForestClassifier"
   ]
  },
  {
   "cell_type": "code",
   "execution_count": 76,
   "metadata": {},
   "outputs": [],
   "source": [
    "from sklearn.linear_model import LogisticRegression"
   ]
  },
  {
   "cell_type": "code",
   "execution_count": 77,
   "metadata": {},
   "outputs": [],
   "source": [
    "from sklearn.svm import SVC"
   ]
  },
  {
   "cell_type": "code",
   "execution_count": 79,
   "metadata": {
    "scrolled": true
   },
   "outputs": [
    {
     "name": "stderr",
     "output_type": "stream",
     "text": [
      "C:\\Users\\Irka\\AppData\\Local\\Programs\\Python\\Python37-32\\lib\\site-packages\\sklearn\\model_selection\\_split.py:657: Warning: The least populated class in y has only 1 members, which is too few. The minimum number of members in any class cannot be less than n_splits=3.\n",
      "  % (min_groups, self.n_splits)), Warning)\n",
      "C:\\Users\\Irka\\AppData\\Local\\Programs\\Python\\Python37-32\\lib\\site-packages\\sklearn\\svm\\base.py:929: ConvergenceWarning: Liblinear failed to converge, increase the number of iterations.\n",
      "  \"the number of iterations.\", ConvergenceWarning)\n",
      "C:\\Users\\Irka\\AppData\\Local\\Programs\\Python\\Python37-32\\lib\\site-packages\\sklearn\\svm\\base.py:929: ConvergenceWarning: Liblinear failed to converge, increase the number of iterations.\n",
      "  \"the number of iterations.\", ConvergenceWarning)\n",
      "C:\\Users\\Irka\\AppData\\Local\\Programs\\Python\\Python37-32\\lib\\site-packages\\sklearn\\svm\\base.py:929: ConvergenceWarning: Liblinear failed to converge, increase the number of iterations.\n",
      "  \"the number of iterations.\", ConvergenceWarning)\n"
     ]
    },
    {
     "data": {
      "text/plain": [
       "array([0.00600962, 0.00534759, 0.01181102])"
      ]
     },
     "execution_count": 79,
     "metadata": {},
     "output_type": "execute_result"
    }
   ],
   "source": [
    "lr = cross_val_score(LogisticRegression(), data, y, cv=3)\n",
    "lr"
   ]
  },
  {
   "cell_type": "code",
   "execution_count": 80,
   "metadata": {},
   "outputs": [
    {
     "name": "stderr",
     "output_type": "stream",
     "text": [
      "C:\\Users\\Irka\\AppData\\Local\\Programs\\Python\\Python37-32\\lib\\site-packages\\sklearn\\model_selection\\_split.py:657: Warning: The least populated class in y has only 1 members, which is too few. The minimum number of members in any class cannot be less than n_splits=3.\n",
      "  % (min_groups, self.n_splits)), Warning)\n"
     ]
    },
    {
     "data": {
      "text/plain": [
       "array([0.00841346, 0.01604278, 0.02362205])"
      ]
     },
     "execution_count": 80,
     "metadata": {},
     "output_type": "execute_result"
    }
   ],
   "source": [
    "svc = cross_val_score(SVC(gamma='auto'), data, y, cv=3)\n",
    "svc"
   ]
  },
  {
   "cell_type": "code",
   "execution_count": 85,
   "metadata": {},
   "outputs": [
    {
     "name": "stderr",
     "output_type": "stream",
     "text": [
      "C:\\Users\\Irka\\AppData\\Local\\Programs\\Python\\Python37-32\\lib\\site-packages\\sklearn\\model_selection\\_split.py:657: Warning: The least populated class in y has only 1 members, which is too few. The minimum number of members in any class cannot be less than n_splits=5.\n",
      "  % (min_groups, self.n_splits)), Warning)\n"
     ]
    },
    {
     "data": {
      "text/plain": [
       "array([0.00956284, 0.02631579, 0.00990099, 0.00763359, 0.01098901])"
      ]
     },
     "execution_count": 85,
     "metadata": {},
     "output_type": "execute_result"
    }
   ],
   "source": [
    "rf = cross_val_score(RandomForestClassifier(n_estimators=60), data, y, cv=5)\n",
    "rf"
   ]
  },
  {
   "cell_type": "code",
   "execution_count": 82,
   "metadata": {},
   "outputs": [
    {
     "data": {
      "text/plain": [
       "RandomForestClassifier(bootstrap=True, class_weight=None, criterion='gini',\n",
       "                       max_depth=None, max_features='auto', max_leaf_nodes=None,\n",
       "                       min_impurity_decrease=0.0, min_impurity_split=None,\n",
       "                       min_samples_leaf=1, min_samples_split=2,\n",
       "                       min_weight_fraction_leaf=0.0, n_estimators=50,\n",
       "                       n_jobs=None, oob_score=False, random_state=None,\n",
       "                       verbose=0, warm_start=False)"
      ]
     },
     "execution_count": 82,
     "metadata": {},
     "output_type": "execute_result"
    }
   ],
   "source": [
    "from sklearn.ensemble import RandomForestClassifier\n",
    "model = RandomForestClassifier(n_estimators=50)\n",
    "model.fit(data, y)"
   ]
  },
  {
   "cell_type": "code",
   "execution_count": 83,
   "metadata": {},
   "outputs": [
    {
     "data": {
      "text/plain": [
       "1.0"
      ]
     },
     "execution_count": 83,
     "metadata": {},
     "output_type": "execute_result"
    }
   ],
   "source": [
    "model.score(data, y)"
   ]
  },
  {
   "cell_type": "code",
   "execution_count": 391,
   "metadata": {},
   "outputs": [],
   "source": [
    "test = pd.read_csv('test.csv')"
   ]
  },
  {
   "cell_type": "code",
   "execution_count": 392,
   "metadata": {},
   "outputs": [
    {
     "data": {
      "text/html": [
       "<div>\n",
       "<style scoped>\n",
       "    .dataframe tbody tr th:only-of-type {\n",
       "        vertical-align: middle;\n",
       "    }\n",
       "\n",
       "    .dataframe tbody tr th {\n",
       "        vertical-align: top;\n",
       "    }\n",
       "\n",
       "    .dataframe thead th {\n",
       "        text-align: right;\n",
       "    }\n",
       "</style>\n",
       "<table border=\"1\" class=\"dataframe\">\n",
       "  <thead>\n",
       "    <tr style=\"text-align: right;\">\n",
       "      <th></th>\n",
       "      <th>Id</th>\n",
       "      <th>MSSubClass</th>\n",
       "      <th>MSZoning</th>\n",
       "      <th>LotFrontage</th>\n",
       "      <th>LotArea</th>\n",
       "      <th>Street</th>\n",
       "      <th>Alley</th>\n",
       "      <th>LotShape</th>\n",
       "      <th>LandContour</th>\n",
       "      <th>Utilities</th>\n",
       "      <th>...</th>\n",
       "      <th>ScreenPorch</th>\n",
       "      <th>PoolArea</th>\n",
       "      <th>PoolQC</th>\n",
       "      <th>Fence</th>\n",
       "      <th>MiscFeature</th>\n",
       "      <th>MiscVal</th>\n",
       "      <th>MoSold</th>\n",
       "      <th>YrSold</th>\n",
       "      <th>SaleType</th>\n",
       "      <th>SaleCondition</th>\n",
       "    </tr>\n",
       "  </thead>\n",
       "  <tbody>\n",
       "    <tr>\n",
       "      <th>0</th>\n",
       "      <td>1461</td>\n",
       "      <td>20</td>\n",
       "      <td>RH</td>\n",
       "      <td>80.0</td>\n",
       "      <td>11622</td>\n",
       "      <td>Pave</td>\n",
       "      <td>NaN</td>\n",
       "      <td>Reg</td>\n",
       "      <td>Lvl</td>\n",
       "      <td>AllPub</td>\n",
       "      <td>...</td>\n",
       "      <td>120</td>\n",
       "      <td>0</td>\n",
       "      <td>NaN</td>\n",
       "      <td>MnPrv</td>\n",
       "      <td>NaN</td>\n",
       "      <td>0</td>\n",
       "      <td>6</td>\n",
       "      <td>2010</td>\n",
       "      <td>WD</td>\n",
       "      <td>Normal</td>\n",
       "    </tr>\n",
       "    <tr>\n",
       "      <th>1</th>\n",
       "      <td>1462</td>\n",
       "      <td>20</td>\n",
       "      <td>RL</td>\n",
       "      <td>81.0</td>\n",
       "      <td>14267</td>\n",
       "      <td>Pave</td>\n",
       "      <td>NaN</td>\n",
       "      <td>IR1</td>\n",
       "      <td>Lvl</td>\n",
       "      <td>AllPub</td>\n",
       "      <td>...</td>\n",
       "      <td>0</td>\n",
       "      <td>0</td>\n",
       "      <td>NaN</td>\n",
       "      <td>NaN</td>\n",
       "      <td>Gar2</td>\n",
       "      <td>12500</td>\n",
       "      <td>6</td>\n",
       "      <td>2010</td>\n",
       "      <td>WD</td>\n",
       "      <td>Normal</td>\n",
       "    </tr>\n",
       "    <tr>\n",
       "      <th>2</th>\n",
       "      <td>1463</td>\n",
       "      <td>60</td>\n",
       "      <td>RL</td>\n",
       "      <td>74.0</td>\n",
       "      <td>13830</td>\n",
       "      <td>Pave</td>\n",
       "      <td>NaN</td>\n",
       "      <td>IR1</td>\n",
       "      <td>Lvl</td>\n",
       "      <td>AllPub</td>\n",
       "      <td>...</td>\n",
       "      <td>0</td>\n",
       "      <td>0</td>\n",
       "      <td>NaN</td>\n",
       "      <td>MnPrv</td>\n",
       "      <td>NaN</td>\n",
       "      <td>0</td>\n",
       "      <td>3</td>\n",
       "      <td>2010</td>\n",
       "      <td>WD</td>\n",
       "      <td>Normal</td>\n",
       "    </tr>\n",
       "    <tr>\n",
       "      <th>3</th>\n",
       "      <td>1464</td>\n",
       "      <td>60</td>\n",
       "      <td>RL</td>\n",
       "      <td>78.0</td>\n",
       "      <td>9978</td>\n",
       "      <td>Pave</td>\n",
       "      <td>NaN</td>\n",
       "      <td>IR1</td>\n",
       "      <td>Lvl</td>\n",
       "      <td>AllPub</td>\n",
       "      <td>...</td>\n",
       "      <td>0</td>\n",
       "      <td>0</td>\n",
       "      <td>NaN</td>\n",
       "      <td>NaN</td>\n",
       "      <td>NaN</td>\n",
       "      <td>0</td>\n",
       "      <td>6</td>\n",
       "      <td>2010</td>\n",
       "      <td>WD</td>\n",
       "      <td>Normal</td>\n",
       "    </tr>\n",
       "    <tr>\n",
       "      <th>4</th>\n",
       "      <td>1465</td>\n",
       "      <td>120</td>\n",
       "      <td>RL</td>\n",
       "      <td>43.0</td>\n",
       "      <td>5005</td>\n",
       "      <td>Pave</td>\n",
       "      <td>NaN</td>\n",
       "      <td>IR1</td>\n",
       "      <td>HLS</td>\n",
       "      <td>AllPub</td>\n",
       "      <td>...</td>\n",
       "      <td>144</td>\n",
       "      <td>0</td>\n",
       "      <td>NaN</td>\n",
       "      <td>NaN</td>\n",
       "      <td>NaN</td>\n",
       "      <td>0</td>\n",
       "      <td>1</td>\n",
       "      <td>2010</td>\n",
       "      <td>WD</td>\n",
       "      <td>Normal</td>\n",
       "    </tr>\n",
       "  </tbody>\n",
       "</table>\n",
       "<p>5 rows × 80 columns</p>\n",
       "</div>"
      ],
      "text/plain": [
       "     Id  MSSubClass MSZoning  LotFrontage  LotArea Street Alley LotShape  \\\n",
       "0  1461          20       RH         80.0    11622   Pave   NaN      Reg   \n",
       "1  1462          20       RL         81.0    14267   Pave   NaN      IR1   \n",
       "2  1463          60       RL         74.0    13830   Pave   NaN      IR1   \n",
       "3  1464          60       RL         78.0     9978   Pave   NaN      IR1   \n",
       "4  1465         120       RL         43.0     5005   Pave   NaN      IR1   \n",
       "\n",
       "  LandContour Utilities  ... ScreenPorch PoolArea PoolQC  Fence MiscFeature  \\\n",
       "0         Lvl    AllPub  ...         120        0    NaN  MnPrv         NaN   \n",
       "1         Lvl    AllPub  ...           0        0    NaN    NaN        Gar2   \n",
       "2         Lvl    AllPub  ...           0        0    NaN  MnPrv         NaN   \n",
       "3         Lvl    AllPub  ...           0        0    NaN    NaN         NaN   \n",
       "4         HLS    AllPub  ...         144        0    NaN    NaN         NaN   \n",
       "\n",
       "  MiscVal MoSold  YrSold  SaleType  SaleCondition  \n",
       "0       0      6    2010        WD         Normal  \n",
       "1   12500      6    2010        WD         Normal  \n",
       "2       0      3    2010        WD         Normal  \n",
       "3       0      6    2010        WD         Normal  \n",
       "4       0      1    2010        WD         Normal  \n",
       "\n",
       "[5 rows x 80 columns]"
      ]
     },
     "execution_count": 392,
     "metadata": {},
     "output_type": "execute_result"
    }
   ],
   "source": [
    "test.head()"
   ]
  },
  {
   "cell_type": "code",
   "execution_count": 393,
   "metadata": {},
   "outputs": [],
   "source": [
    "# for i in list(test.columns):\n",
    "#     if test[i].isna().sum() > 0:\n",
    "#         test[i] = test[i].fillna(0)\n",
    "        "
   ]
  },
  {
   "cell_type": "code",
   "execution_count": 394,
   "metadata": {},
   "outputs": [],
   "source": [
    "test['MasVnrArea'] = test['MasVnrArea'].fillna(0)\n",
    "test['MSZoning'] = test['MSZoning'].fillna('RL')\n",
    "test['LotFrontage'] = test['LotFrontage'].fillna(0)\n",
    "test = test.drop(['Alley'], axis='columns')\n",
    "test = test.drop(['Id'], axis='columns')\n"
   ]
  },
  {
   "cell_type": "code",
   "execution_count": 395,
   "metadata": {},
   "outputs": [],
   "source": [
    "test = test.drop(['PoolQC'], axis='columns')\n",
    "\n",
    "test['BsmtQual'] = test['BsmtQual'].fillna('N')\n",
    "\n",
    "test['BsmtExposure'] = test['BsmtExposure'].fillna('N')\n",
    "\n",
    "test['BsmtFinType1'] = test['BsmtFinType1'].fillna('Unf')\n",
    "\n",
    "test['BsmtCond'] = test['BsmtCond'].fillna('N')\n",
    "\n",
    "test['BsmtFinType2'] = test['BsmtFinType2'].fillna('Unf')\n",
    "\n",
    "test['Electrical'] = test['Electrical'].fillna('SBrkr')\n",
    "\n",
    "test['FireplaceQu'] = test['FireplaceQu'].fillna('N')\n",
    "\n",
    "test['GarageType'] = test['GarageType'].fillna('N')\n",
    "\n",
    "test['GarageYrBlt'] = test['GarageYrBlt'].fillna(0)\n",
    "\n",
    "test['GarageFinish'] = test['GarageFinish'].fillna('N')\n",
    "\n",
    "test['GarageQual'] = test['GarageQual'].fillna('N')\n",
    "\n",
    "test['GarageCond'] = test['GarageCond'].fillna('N')\n",
    "\n",
    "test = test.drop(['Fence'], axis='columns')\n",
    "\n",
    "test['MasVnrType'] = test['MasVnrType'].fillna('N')\n",
    "\n",
    "test = test.drop(['MiscFeature'], axis='columns')"
   ]
  },
  {
   "cell_type": "code",
   "execution_count": 396,
   "metadata": {},
   "outputs": [],
   "source": [
    "test['Utilities'] = test['Utilities'].fillna('AllPub')"
   ]
  },
  {
   "cell_type": "code",
   "execution_count": 397,
   "metadata": {},
   "outputs": [],
   "source": [
    "test['Exterior1st'] = test['Exterior1st'].fillna('N')"
   ]
  },
  {
   "cell_type": "code",
   "execution_count": 398,
   "metadata": {},
   "outputs": [],
   "source": [
    "test['Exterior2nd'] = test['Exterior2nd'].fillna('VinylSd')"
   ]
  },
  {
   "cell_type": "code",
   "execution_count": 399,
   "metadata": {},
   "outputs": [],
   "source": [
    "test['BsmtFinSF1'] = test['BsmtFinSF1'].fillna(0.0)"
   ]
  },
  {
   "cell_type": "code",
   "execution_count": 400,
   "metadata": {},
   "outputs": [],
   "source": [
    "test['BsmtFinSF2'] = test['BsmtFinSF2'].fillna(0.0)"
   ]
  },
  {
   "cell_type": "code",
   "execution_count": 401,
   "metadata": {},
   "outputs": [],
   "source": [
    "test['BsmtUnfSF'] = test['BsmtUnfSF'].fillna(0.0)"
   ]
  },
  {
   "cell_type": "code",
   "execution_count": 402,
   "metadata": {},
   "outputs": [],
   "source": [
    "test['TotalBsmtSF'] = test['TotalBsmtSF'].fillna(0.0)"
   ]
  },
  {
   "cell_type": "code",
   "execution_count": 403,
   "metadata": {},
   "outputs": [],
   "source": [
    "test['BsmtFullBath'] = test['BsmtFullBath'].fillna(0.0)"
   ]
  },
  {
   "cell_type": "code",
   "execution_count": 404,
   "metadata": {},
   "outputs": [],
   "source": [
    "test['BsmtHalfBath'] = test['BsmtHalfBath'].fillna(0.0)"
   ]
  },
  {
   "cell_type": "code",
   "execution_count": 405,
   "metadata": {},
   "outputs": [],
   "source": [
    "test['KitchenQual'] = test['KitchenQual'].fillna('TA')"
   ]
  },
  {
   "cell_type": "code",
   "execution_count": 406,
   "metadata": {},
   "outputs": [],
   "source": [
    "test['Functional'] = test['Functional'].fillna('Typ')"
   ]
  },
  {
   "cell_type": "code",
   "execution_count": 407,
   "metadata": {},
   "outputs": [],
   "source": [
    "test['GarageCars'] = test['GarageCars'].fillna(2.0)"
   ]
  },
  {
   "cell_type": "code",
   "execution_count": 408,
   "metadata": {},
   "outputs": [],
   "source": [
    "test['GarageArea'] = test['GarageArea'].fillna(0.0)"
   ]
  },
  {
   "cell_type": "code",
   "execution_count": 409,
   "metadata": {},
   "outputs": [],
   "source": [
    "test['SaleType'] = test['SaleType'].fillna('WD')"
   ]
  },
  {
   "cell_type": "code",
   "execution_count": null,
   "metadata": {},
   "outputs": [],
   "source": []
  },
  {
   "cell_type": "code",
   "execution_count": null,
   "metadata": {},
   "outputs": [],
   "source": []
  },
  {
   "cell_type": "code",
   "execution_count": null,
   "metadata": {},
   "outputs": [],
   "source": []
  },
  {
   "cell_type": "code",
   "execution_count": null,
   "metadata": {},
   "outputs": [],
   "source": []
  },
  {
   "cell_type": "code",
   "execution_count": 410,
   "metadata": {},
   "outputs": [
    {
     "data": {
      "text/plain": [
       "MSSubClass       0\n",
       "MSZoning         0\n",
       "LotFrontage      0\n",
       "LotArea          0\n",
       "Street           0\n",
       "LotShape         0\n",
       "LandContour      0\n",
       "Utilities        0\n",
       "LotConfig        0\n",
       "LandSlope        0\n",
       "Neighborhood     0\n",
       "Condition1       0\n",
       "Condition2       0\n",
       "BldgType         0\n",
       "HouseStyle       0\n",
       "OverallQual      0\n",
       "OverallCond      0\n",
       "YearBuilt        0\n",
       "YearRemodAdd     0\n",
       "RoofStyle        0\n",
       "RoofMatl         0\n",
       "Exterior1st      0\n",
       "Exterior2nd      0\n",
       "MasVnrType       0\n",
       "MasVnrArea       0\n",
       "ExterQual        0\n",
       "ExterCond        0\n",
       "Foundation       0\n",
       "BsmtQual         0\n",
       "BsmtCond         0\n",
       "                ..\n",
       "BsmtFullBath     0\n",
       "BsmtHalfBath     0\n",
       "FullBath         0\n",
       "HalfBath         0\n",
       "BedroomAbvGr     0\n",
       "KitchenAbvGr     0\n",
       "KitchenQual      0\n",
       "TotRmsAbvGrd     0\n",
       "Functional       0\n",
       "Fireplaces       0\n",
       "FireplaceQu      0\n",
       "GarageType       0\n",
       "GarageYrBlt      0\n",
       "GarageFinish     0\n",
       "GarageCars       0\n",
       "GarageArea       0\n",
       "GarageQual       0\n",
       "GarageCond       0\n",
       "PavedDrive       0\n",
       "WoodDeckSF       0\n",
       "OpenPorchSF      0\n",
       "EnclosedPorch    0\n",
       "3SsnPorch        0\n",
       "ScreenPorch      0\n",
       "PoolArea         0\n",
       "MiscVal          0\n",
       "MoSold           0\n",
       "YrSold           0\n",
       "SaleType         0\n",
       "SaleCondition    0\n",
       "Length: 75, dtype: int64"
      ]
     },
     "execution_count": 410,
     "metadata": {},
     "output_type": "execute_result"
    }
   ],
   "source": [
    "test.isna().sum()"
   ]
  },
  {
   "cell_type": "code",
   "execution_count": 411,
   "metadata": {},
   "outputs": [],
   "source": [
    "\n",
    "\n",
    "from sklearn.preprocessing import LabelEncoder\n",
    "\n",
    "le_MSSubClass = LabelEncoder()\n",
    "test['MSSubClass_m'] = le_MSSubClass.fit_transform(test['MSSubClass'])\n",
    "test = test.drop(['MSSubClass'], axis='columns')\n",
    "\n",
    "le_Street = LabelEncoder()\n",
    "test['Street_m'] = le_MSSubClass.fit_transform(test['Street'])\n",
    "test = test.drop(['Street'], axis='columns')\n",
    "\n",
    "le_LotShape = LabelEncoder()\n",
    "test['LotShape_m'] = le_MSSubClass.fit_transform(test['LotShape'])\n",
    "test = test.drop(['LotShape'], axis='columns')\n",
    "\n",
    "le_LandContour = LabelEncoder()\n",
    "test['LandContour_m'] = le_MSSubClass.fit_transform(test['LandContour'])\n",
    "test = test.drop(['LandContour'], axis='columns')\n",
    "\n",
    "le_Utilities = LabelEncoder()\n",
    "test['Utilities_m'] = le_MSSubClass.fit_transform(test['Utilities'])\n",
    "test = test.drop(['Utilities'], axis='columns')\n",
    "\n",
    "le_LotConfig = LabelEncoder()\n",
    "test['LotConfig_m'] = le_MSSubClass.fit_transform(test['LotConfig'])\n",
    "test = test.drop(['LotConfig'], axis='columns')\n",
    "\n",
    "le_LandSlope = LabelEncoder()\n",
    "test['LandSlope_m'] = le_MSSubClass.fit_transform(test['LandSlope'])\n",
    "test = test.drop(['LandSlope'], axis='columns')\n",
    "\n",
    "le_Neighborhood = LabelEncoder()\n",
    "test['Neighborhood_m'] = le_MSSubClass.fit_transform(test['Neighborhood'])\n",
    "test = test.drop(['Neighborhood'], axis='columns')\n",
    "\n",
    "le_Condition1 = LabelEncoder()\n",
    "test['Condition1_m'] = le_MSSubClass.fit_transform(test['Condition1'])\n",
    "test = test.drop(['Condition1'], axis='columns')\n",
    "\n",
    "le_Condition1 = LabelEncoder()\n",
    "test['Condition2_m'] = le_MSSubClass.fit_transform(test['Condition2'])\n",
    "test = test.drop(['Condition2'], axis='columns')\n",
    "\n",
    "le_BldgType = LabelEncoder()\n",
    "test['BldgType_m'] = le_MSSubClass.fit_transform(test['BldgType'])\n",
    "test = test.drop(['BldgType'], axis='columns')\n",
    "\n",
    "le_HouseStyle = LabelEncoder()\n",
    "test['HouseStyle_m'] = le_MSSubClass.fit_transform(test['HouseStyle'])\n",
    "test = test.drop(['HouseStyle'], axis='columns')\n",
    "\n",
    "le_HouseStyle = LabelEncoder()\n",
    "test['RoofStyle_m'] = le_MSSubClass.fit_transform(test['RoofStyle'])\n",
    "test = test.drop(['RoofStyle'], axis='columns')\n",
    "\n",
    "le_HouseStyle = LabelEncoder()\n",
    "test['RoofMatl_m'] = le_MSSubClass.fit_transform(test['RoofMatl'])\n",
    "test = test.drop(['RoofMatl'], axis='columns')\n",
    "\n",
    "le_HouseStyle = LabelEncoder()\n",
    "test['Exterior1st_m'] = le_MSSubClass.fit_transform(test['Exterior1st'])\n",
    "test = test.drop(['Exterior1st'], axis='columns')\n",
    "\n",
    "le_HouseStyle = LabelEncoder()\n",
    "test['Exterior2nd_m'] = le_MSSubClass.fit_transform(test['Exterior2nd'])\n",
    "test = test.drop(['Exterior2nd'], axis='columns')\n",
    "\n",
    "le_HouseStyle = LabelEncoder()\n",
    "test['MasVnrType_m'] = le_MSSubClass.fit_transform(test['MasVnrType'])\n",
    "test = test.drop(['MasVnrType'], axis='columns')\n",
    "\n",
    "le_HouseStyle = LabelEncoder()\n",
    "test['ExterQual_m'] = le_MSSubClass.fit_transform(test['ExterQual'])\n",
    "test = test.drop(['ExterQual'], axis='columns')\n",
    "\n",
    "le_HouseStyle = LabelEncoder()\n",
    "test['ExterCond_m'] = le_MSSubClass.fit_transform(test['ExterCond'])\n",
    "test = test.drop(['ExterCond'], axis='columns')\n",
    "\n",
    "le_HouseStyle = LabelEncoder()\n",
    "test['Foundation_m'] = le_MSSubClass.fit_transform(test['Foundation'])\n",
    "test = test.drop(['Foundation'], axis='columns')\n",
    "\n",
    "le_HouseStyle = LabelEncoder()\n",
    "test['BsmtQual_m'] = le_MSSubClass.fit_transform(test['BsmtQual'])\n",
    "test = test.drop(['BsmtQual'], axis='columns')\n",
    "\n",
    "le_HouseStyle = LabelEncoder()\n",
    "test['BsmtCond_m'] = le_MSSubClass.fit_transform(test['BsmtCond'])\n",
    "test = test.drop(['BsmtCond'], axis='columns')\n",
    "\n",
    "le_HouseStyle = LabelEncoder()\n",
    "test['BsmtExposure_m'] = le_MSSubClass.fit_transform(test['BsmtExposure'])\n",
    "test = test.drop(['BsmtExposure'], axis='columns')\n",
    "\n",
    "le_HouseStyle = LabelEncoder()\n",
    "test['BsmtFinType1_m'] = le_MSSubClass.fit_transform(test['BsmtFinType1'])\n",
    "test = test.drop(['BsmtFinType1'], axis='columns')\n",
    "\n",
    "le_HouseStyle = LabelEncoder()\n",
    "test['BsmtFinType2_m'] = le_MSSubClass.fit_transform(test['BsmtFinType2'])\n",
    "test = test.drop(['BsmtFinType2'], axis='columns')\n",
    "\n",
    "le_HouseStyle = LabelEncoder()\n",
    "test['Heating_m'] = le_MSSubClass.fit_transform(test['Heating'])\n",
    "test = test.drop(['Heating'], axis='columns')\n",
    "\n",
    "le_HouseStyle = LabelEncoder()\n",
    "test['HeatingQC_m'] = le_MSSubClass.fit_transform(test['HeatingQC'])\n",
    "test = test.drop(['HeatingQC'], axis='columns')\n",
    "\n",
    "le_HouseStyle = LabelEncoder()\n",
    "test['CentralAir_m'] = le_MSSubClass.fit_transform(test['CentralAir'])\n",
    "test = test.drop(['CentralAir'], axis='columns')\n",
    "\n",
    "le_HouseStyle = LabelEncoder()\n",
    "test['Electrical_m'] = le_MSSubClass.fit_transform(test['Electrical'])\n",
    "test = test.drop(['Electrical'], axis='columns')\n",
    "\n",
    "le_HouseStyle = LabelEncoder()\n",
    "test['KitchenQual_m'] = le_MSSubClass.fit_transform(test['KitchenQual'])\n",
    "test = test.drop(['KitchenQual'], axis='columns')\n",
    "\n",
    "le_HouseStyle = LabelEncoder()\n",
    "test['Functional_m'] = le_MSSubClass.fit_transform(test['Functional'])\n",
    "test = test.drop(['Functional'], axis='columns')\n",
    "\n",
    "le_HouseStyle = LabelEncoder()\n",
    "test['FireplaceQu_m'] = le_MSSubClass.fit_transform(test['FireplaceQu'])\n",
    "test = test.drop(['FireplaceQu'], axis='columns')\n",
    "\n",
    "le_HouseStyle = LabelEncoder()\n",
    "test['GarageType_m'] = le_MSSubClass.fit_transform(test['GarageType'])\n",
    "test = test.drop(['GarageType'], axis='columns')\n",
    "\n",
    "le_HouseStyle = LabelEncoder()\n",
    "test['GarageFinish_m'] = le_MSSubClass.fit_transform(test['GarageFinish'])\n",
    "test = test.drop(['GarageFinish'], axis='columns')\n",
    "\n",
    "le_HouseStyle = LabelEncoder()\n",
    "test['GarageQual_m'] = le_MSSubClass.fit_transform(test['GarageQual'])\n",
    "test = test.drop(['GarageQual'], axis='columns')\n",
    "\n",
    "le_HouseStyle = LabelEncoder()\n",
    "test['GarageCond_m'] = le_MSSubClass.fit_transform(test['GarageCond'])\n",
    "test = test.drop(['GarageCond'], axis='columns')\n",
    "\n",
    "le_HouseStyle = LabelEncoder()\n",
    "test['PavedDrive_m'] = le_MSSubClass.fit_transform(test['PavedDrive'])\n",
    "test = test.drop(['PavedDrive'], axis='columns')\n",
    "\n",
    "le_HouseStyle = LabelEncoder()\n",
    "test['SaleType_m'] = le_MSSubClass.fit_transform(test['SaleType'])\n",
    "test = test.drop(['SaleType'], axis='columns')\n",
    "\n",
    "le_HouseStyle = LabelEncoder()\n",
    "test['SaleCondition_m'] = le_MSSubClass.fit_transform(test['SaleCondition'])\n",
    "test = test.drop(['SaleCondition'], axis='columns')\n",
    "\n",
    "le_HouseStyle = LabelEncoder()\n",
    "test['MSZoning_m'] = le_MSSubClass.fit_transform(test['MSZoning'])\n",
    "test = test.drop(['MSZoning'], axis='columns')"
   ]
  },
  {
   "cell_type": "code",
   "execution_count": null,
   "metadata": {},
   "outputs": [],
   "source": []
  },
  {
   "cell_type": "code",
   "execution_count": 412,
   "metadata": {},
   "outputs": [
    {
     "data": {
      "text/plain": [
       "0.0       78\n",
       "2005.0    77\n",
       "2007.0    66\n",
       "2006.0    56\n",
       "2004.0    46\n",
       "2003.0    42\n",
       "2008.0    32\n",
       "1977.0    31\n",
       "2000.0    28\n",
       "2002.0    27\n",
       "1950.0    27\n",
       "1993.0    27\n",
       "1998.0    27\n",
       "1997.0    25\n",
       "1956.0    25\n",
       "1999.0    24\n",
       "1968.0    22\n",
       "1978.0    22\n",
       "2001.0    21\n",
       "1967.0    21\n",
       "1994.0    21\n",
       "1958.0    21\n",
       "1976.0    21\n",
       "1979.0    20\n",
       "1996.0    20\n",
       "1930.0    19\n",
       "1975.0    19\n",
       "1959.0    19\n",
       "1920.0    19\n",
       "1966.0    18\n",
       "          ..\n",
       "1925.0     5\n",
       "1946.0     5\n",
       "1924.0     5\n",
       "1982.0     5\n",
       "1915.0     5\n",
       "1981.0     5\n",
       "1900.0     5\n",
       "1941.0     4\n",
       "1983.0     4\n",
       "1942.0     4\n",
       "1927.0     4\n",
       "1935.0     4\n",
       "1937.0     4\n",
       "1922.0     3\n",
       "1928.0     3\n",
       "1923.0     3\n",
       "1947.0     3\n",
       "1936.0     2\n",
       "2010.0     2\n",
       "1917.0     2\n",
       "1934.0     2\n",
       "1921.0     2\n",
       "1932.0     1\n",
       "1896.0     1\n",
       "1916.0     1\n",
       "1919.0     1\n",
       "1895.0     1\n",
       "1918.0     1\n",
       "1943.0     1\n",
       "2207.0     1\n",
       "Name: GarageYrBlt, Length: 98, dtype: int64"
      ]
     },
     "execution_count": 412,
     "metadata": {},
     "output_type": "execute_result"
    }
   ],
   "source": [
    "test['GarageYrBlt'].value_counts()"
   ]
  },
  {
   "cell_type": "code",
   "execution_count": null,
   "metadata": {},
   "outputs": [],
   "source": []
  },
  {
   "cell_type": "code",
   "execution_count": 413,
   "metadata": {},
   "outputs": [
    {
     "data": {
      "text/plain": [
       "array([144000, 157900, 173000, ..., 235000, 118500, 250000], dtype=int64)"
      ]
     },
     "execution_count": 413,
     "metadata": {},
     "output_type": "execute_result"
    }
   ],
   "source": [
    "p = model.predict(test)\n",
    "p"
   ]
  },
  {
   "cell_type": "code",
   "execution_count": 414,
   "metadata": {},
   "outputs": [],
   "source": [
    "# df = pd.DataFrame(columns=('Id', 'SalePrice'))\n",
    "# for i in range(1461, 2920):\n",
    "#     df = df.append({'Id': int(i), 'SalePrice': p[i-1461]}, ignore_index=True)\n",
    "# df"
   ]
  },
  {
   "cell_type": "code",
   "execution_count": 415,
   "metadata": {},
   "outputs": [
    {
     "data": {
      "text/html": [
       "<div>\n",
       "<style scoped>\n",
       "    .dataframe tbody tr th:only-of-type {\n",
       "        vertical-align: middle;\n",
       "    }\n",
       "\n",
       "    .dataframe tbody tr th {\n",
       "        vertical-align: top;\n",
       "    }\n",
       "\n",
       "    .dataframe thead th {\n",
       "        text-align: right;\n",
       "    }\n",
       "</style>\n",
       "<table border=\"1\" class=\"dataframe\">\n",
       "  <thead>\n",
       "    <tr style=\"text-align: right;\">\n",
       "      <th></th>\n",
       "      <th>Id</th>\n",
       "      <th>SalePrice</th>\n",
       "    </tr>\n",
       "  </thead>\n",
       "  <tbody>\n",
       "    <tr>\n",
       "      <th>0</th>\n",
       "      <td>1461</td>\n",
       "      <td>144000</td>\n",
       "    </tr>\n",
       "    <tr>\n",
       "      <th>1</th>\n",
       "      <td>1462</td>\n",
       "      <td>157900</td>\n",
       "    </tr>\n",
       "    <tr>\n",
       "      <th>2</th>\n",
       "      <td>1463</td>\n",
       "      <td>173000</td>\n",
       "    </tr>\n",
       "    <tr>\n",
       "      <th>3</th>\n",
       "      <td>1464</td>\n",
       "      <td>231500</td>\n",
       "    </tr>\n",
       "    <tr>\n",
       "      <th>4</th>\n",
       "      <td>1465</td>\n",
       "      <td>213500</td>\n",
       "    </tr>\n",
       "    <tr>\n",
       "      <th>5</th>\n",
       "      <td>1466</td>\n",
       "      <td>185000</td>\n",
       "    </tr>\n",
       "    <tr>\n",
       "      <th>6</th>\n",
       "      <td>1467</td>\n",
       "      <td>173000</td>\n",
       "    </tr>\n",
       "    <tr>\n",
       "      <th>7</th>\n",
       "      <td>1468</td>\n",
       "      <td>178900</td>\n",
       "    </tr>\n",
       "    <tr>\n",
       "      <th>8</th>\n",
       "      <td>1469</td>\n",
       "      <td>170000</td>\n",
       "    </tr>\n",
       "    <tr>\n",
       "      <th>9</th>\n",
       "      <td>1470</td>\n",
       "      <td>97000</td>\n",
       "    </tr>\n",
       "    <tr>\n",
       "      <th>10</th>\n",
       "      <td>1471</td>\n",
       "      <td>278000</td>\n",
       "    </tr>\n",
       "    <tr>\n",
       "      <th>11</th>\n",
       "      <td>1472</td>\n",
       "      <td>88000</td>\n",
       "    </tr>\n",
       "    <tr>\n",
       "      <th>12</th>\n",
       "      <td>1473</td>\n",
       "      <td>88000</td>\n",
       "    </tr>\n",
       "    <tr>\n",
       "      <th>13</th>\n",
       "      <td>1474</td>\n",
       "      <td>148500</td>\n",
       "    </tr>\n",
       "    <tr>\n",
       "      <th>14</th>\n",
       "      <td>1475</td>\n",
       "      <td>133000</td>\n",
       "    </tr>\n",
       "    <tr>\n",
       "      <th>15</th>\n",
       "      <td>1476</td>\n",
       "      <td>269500</td>\n",
       "    </tr>\n",
       "    <tr>\n",
       "      <th>16</th>\n",
       "      <td>1477</td>\n",
       "      <td>233170</td>\n",
       "    </tr>\n",
       "    <tr>\n",
       "      <th>17</th>\n",
       "      <td>1478</td>\n",
       "      <td>318000</td>\n",
       "    </tr>\n",
       "    <tr>\n",
       "      <th>18</th>\n",
       "      <td>1479</td>\n",
       "      <td>314813</td>\n",
       "    </tr>\n",
       "    <tr>\n",
       "      <th>19</th>\n",
       "      <td>1480</td>\n",
       "      <td>466500</td>\n",
       "    </tr>\n",
       "    <tr>\n",
       "      <th>20</th>\n",
       "      <td>1481</td>\n",
       "      <td>285000</td>\n",
       "    </tr>\n",
       "    <tr>\n",
       "      <th>21</th>\n",
       "      <td>1482</td>\n",
       "      <td>202500</td>\n",
       "    </tr>\n",
       "    <tr>\n",
       "      <th>22</th>\n",
       "      <td>1483</td>\n",
       "      <td>176432</td>\n",
       "    </tr>\n",
       "    <tr>\n",
       "      <th>23</th>\n",
       "      <td>1484</td>\n",
       "      <td>160200</td>\n",
       "    </tr>\n",
       "    <tr>\n",
       "      <th>24</th>\n",
       "      <td>1485</td>\n",
       "      <td>180000</td>\n",
       "    </tr>\n",
       "    <tr>\n",
       "      <th>25</th>\n",
       "      <td>1486</td>\n",
       "      <td>225000</td>\n",
       "    </tr>\n",
       "    <tr>\n",
       "      <th>26</th>\n",
       "      <td>1487</td>\n",
       "      <td>240000</td>\n",
       "    </tr>\n",
       "    <tr>\n",
       "      <th>27</th>\n",
       "      <td>1488</td>\n",
       "      <td>232000</td>\n",
       "    </tr>\n",
       "    <tr>\n",
       "      <th>28</th>\n",
       "      <td>1489</td>\n",
       "      <td>208300</td>\n",
       "    </tr>\n",
       "    <tr>\n",
       "      <th>29</th>\n",
       "      <td>1490</td>\n",
       "      <td>220000</td>\n",
       "    </tr>\n",
       "    <tr>\n",
       "      <th>...</th>\n",
       "      <td>...</td>\n",
       "      <td>...</td>\n",
       "    </tr>\n",
       "    <tr>\n",
       "      <th>1429</th>\n",
       "      <td>2890</td>\n",
       "      <td>68500</td>\n",
       "    </tr>\n",
       "    <tr>\n",
       "      <th>1430</th>\n",
       "      <td>2891</td>\n",
       "      <td>148000</td>\n",
       "    </tr>\n",
       "    <tr>\n",
       "      <th>1431</th>\n",
       "      <td>2892</td>\n",
       "      <td>52000</td>\n",
       "    </tr>\n",
       "    <tr>\n",
       "      <th>1432</th>\n",
       "      <td>2893</td>\n",
       "      <td>127500</td>\n",
       "    </tr>\n",
       "    <tr>\n",
       "      <th>1433</th>\n",
       "      <td>2894</td>\n",
       "      <td>55000</td>\n",
       "    </tr>\n",
       "    <tr>\n",
       "      <th>1434</th>\n",
       "      <td>2895</td>\n",
       "      <td>275000</td>\n",
       "    </tr>\n",
       "    <tr>\n",
       "      <th>1435</th>\n",
       "      <td>2896</td>\n",
       "      <td>275000</td>\n",
       "    </tr>\n",
       "    <tr>\n",
       "      <th>1436</th>\n",
       "      <td>2897</td>\n",
       "      <td>190000</td>\n",
       "    </tr>\n",
       "    <tr>\n",
       "      <th>1437</th>\n",
       "      <td>2898</td>\n",
       "      <td>135000</td>\n",
       "    </tr>\n",
       "    <tr>\n",
       "      <th>1438</th>\n",
       "      <td>2899</td>\n",
       "      <td>201000</td>\n",
       "    </tr>\n",
       "    <tr>\n",
       "      <th>1439</th>\n",
       "      <td>2900</td>\n",
       "      <td>140000</td>\n",
       "    </tr>\n",
       "    <tr>\n",
       "      <th>1440</th>\n",
       "      <td>2901</td>\n",
       "      <td>256000</td>\n",
       "    </tr>\n",
       "    <tr>\n",
       "      <th>1441</th>\n",
       "      <td>2902</td>\n",
       "      <td>194000</td>\n",
       "    </tr>\n",
       "    <tr>\n",
       "      <th>1442</th>\n",
       "      <td>2903</td>\n",
       "      <td>255500</td>\n",
       "    </tr>\n",
       "    <tr>\n",
       "      <th>1443</th>\n",
       "      <td>2904</td>\n",
       "      <td>315000</td>\n",
       "    </tr>\n",
       "    <tr>\n",
       "      <th>1444</th>\n",
       "      <td>2905</td>\n",
       "      <td>39300</td>\n",
       "    </tr>\n",
       "    <tr>\n",
       "      <th>1445</th>\n",
       "      <td>2906</td>\n",
       "      <td>206300</td>\n",
       "    </tr>\n",
       "    <tr>\n",
       "      <th>1446</th>\n",
       "      <td>2907</td>\n",
       "      <td>115000</td>\n",
       "    </tr>\n",
       "    <tr>\n",
       "      <th>1447</th>\n",
       "      <td>2908</td>\n",
       "      <td>130000</td>\n",
       "    </tr>\n",
       "    <tr>\n",
       "      <th>1448</th>\n",
       "      <td>2909</td>\n",
       "      <td>124000</td>\n",
       "    </tr>\n",
       "    <tr>\n",
       "      <th>1449</th>\n",
       "      <td>2910</td>\n",
       "      <td>80000</td>\n",
       "    </tr>\n",
       "    <tr>\n",
       "      <th>1450</th>\n",
       "      <td>2911</td>\n",
       "      <td>75000</td>\n",
       "    </tr>\n",
       "    <tr>\n",
       "      <th>1451</th>\n",
       "      <td>2912</td>\n",
       "      <td>143000</td>\n",
       "    </tr>\n",
       "    <tr>\n",
       "      <th>1452</th>\n",
       "      <td>2913</td>\n",
       "      <td>100000</td>\n",
       "    </tr>\n",
       "    <tr>\n",
       "      <th>1453</th>\n",
       "      <td>2914</td>\n",
       "      <td>97000</td>\n",
       "    </tr>\n",
       "    <tr>\n",
       "      <th>1454</th>\n",
       "      <td>2915</td>\n",
       "      <td>97000</td>\n",
       "    </tr>\n",
       "    <tr>\n",
       "      <th>1455</th>\n",
       "      <td>2916</td>\n",
       "      <td>75000</td>\n",
       "    </tr>\n",
       "    <tr>\n",
       "      <th>1456</th>\n",
       "      <td>2917</td>\n",
       "      <td>235000</td>\n",
       "    </tr>\n",
       "    <tr>\n",
       "      <th>1457</th>\n",
       "      <td>2918</td>\n",
       "      <td>118500</td>\n",
       "    </tr>\n",
       "    <tr>\n",
       "      <th>1458</th>\n",
       "      <td>2919</td>\n",
       "      <td>250000</td>\n",
       "    </tr>\n",
       "  </tbody>\n",
       "</table>\n",
       "<p>1459 rows × 2 columns</p>\n",
       "</div>"
      ],
      "text/plain": [
       "        Id SalePrice\n",
       "0     1461    144000\n",
       "1     1462    157900\n",
       "2     1463    173000\n",
       "3     1464    231500\n",
       "4     1465    213500\n",
       "5     1466    185000\n",
       "6     1467    173000\n",
       "7     1468    178900\n",
       "8     1469    170000\n",
       "9     1470     97000\n",
       "10    1471    278000\n",
       "11    1472     88000\n",
       "12    1473     88000\n",
       "13    1474    148500\n",
       "14    1475    133000\n",
       "15    1476    269500\n",
       "16    1477    233170\n",
       "17    1478    318000\n",
       "18    1479    314813\n",
       "19    1480    466500\n",
       "20    1481    285000\n",
       "21    1482    202500\n",
       "22    1483    176432\n",
       "23    1484    160200\n",
       "24    1485    180000\n",
       "25    1486    225000\n",
       "26    1487    240000\n",
       "27    1488    232000\n",
       "28    1489    208300\n",
       "29    1490    220000\n",
       "...    ...       ...\n",
       "1429  2890     68500\n",
       "1430  2891    148000\n",
       "1431  2892     52000\n",
       "1432  2893    127500\n",
       "1433  2894     55000\n",
       "1434  2895    275000\n",
       "1435  2896    275000\n",
       "1436  2897    190000\n",
       "1437  2898    135000\n",
       "1438  2899    201000\n",
       "1439  2900    140000\n",
       "1440  2901    256000\n",
       "1441  2902    194000\n",
       "1442  2903    255500\n",
       "1443  2904    315000\n",
       "1444  2905     39300\n",
       "1445  2906    206300\n",
       "1446  2907    115000\n",
       "1447  2908    130000\n",
       "1448  2909    124000\n",
       "1449  2910     80000\n",
       "1450  2911     75000\n",
       "1451  2912    143000\n",
       "1452  2913    100000\n",
       "1453  2914     97000\n",
       "1454  2915     97000\n",
       "1455  2916     75000\n",
       "1456  2917    235000\n",
       "1457  2918    118500\n",
       "1458  2919    250000\n",
       "\n",
       "[1459 rows x 2 columns]"
      ]
     },
     "execution_count": 415,
     "metadata": {},
     "output_type": "execute_result"
    }
   ],
   "source": [
    "df = pd.DataFrame(columns=('Id', 'SalePrice'))\n",
    "for i in range(1461, 2920):\n",
    "    df = df.append({'Id': int(i), 'SalePrice': p[i-1461]}, ignore_index=True)\n",
    "df['Id'] = df.Id.astype(int)\n",
    "df"
   ]
  },
  {
   "cell_type": "code",
   "execution_count": null,
   "metadata": {},
   "outputs": [],
   "source": []
  },
  {
   "cell_type": "code",
   "execution_count": 416,
   "metadata": {},
   "outputs": [],
   "source": [
    "df.to_csv('table.csv', index=False)"
   ]
  },
  {
   "cell_type": "code",
   "execution_count": null,
   "metadata": {},
   "outputs": [],
   "source": []
  }
 ],
 "metadata": {
  "kernelspec": {
   "display_name": "Python 3",
   "language": "python",
   "name": "python3"
  },
  "language_info": {
   "codemirror_mode": {
    "name": "ipython",
    "version": 3
   },
   "file_extension": ".py",
   "mimetype": "text/x-python",
   "name": "python",
   "nbconvert_exporter": "python",
   "pygments_lexer": "ipython3",
   "version": "3.7.2"
  }
 },
 "nbformat": 4,
 "nbformat_minor": 2
}
