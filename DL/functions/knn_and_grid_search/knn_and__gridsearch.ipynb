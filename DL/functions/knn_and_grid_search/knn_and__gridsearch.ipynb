{
  "nbformat": 4,
  "nbformat_minor": 0,
  "metadata": {
    "colab": {
      "name": "knn_and _gridsearch.ipynb",
      "provenance": []
    },
    "kernelspec": {
      "name": "python3",
      "display_name": "Python 3"
    }
  },
  "cells": [
    {
      "cell_type": "code",
      "metadata": {
        "id": "rjKEISdoEHRl",
        "colab_type": "code",
        "colab": {}
      },
      "source": [
        "import pandas as pd\n",
        "import numpy as np\n",
        "\n",
        "from sklearn.model_selection import train_test_split\n",
        "from sklearn.metrics import accuracy_score\n",
        "from sklearn.model_selection import GridSearchCV\n",
        "from sklearn.neighbors import KNeighborsClassifier\n",
        "from sklearn.datasets import load_iris\n",
        "\n",
        "import matplotlib.pyplot as plt"
      ],
      "execution_count": 0,
      "outputs": []
    },
    {
      "cell_type": "code",
      "metadata": {
        "id": "p7GpE2xfEpkC",
        "colab_type": "code",
        "colab": {}
      },
      "source": [
        "iris = load_iris()\n",
        "X = iris.data\n",
        "y = iris.target"
      ],
      "execution_count": 0,
      "outputs": []
    },
    {
      "cell_type": "code",
      "metadata": {
        "id": "8dRusq2xIQRw",
        "colab_type": "code",
        "colab": {}
      },
      "source": [
        "X, X_test, y, y_test = train_test_split(X, y, test_size=0.2, random_state=42)"
      ],
      "execution_count": 0,
      "outputs": []
    },
    {
      "cell_type": "code",
      "metadata": {
        "id": "Lyv_nDOHIuoN",
        "colab_type": "code",
        "colab": {
          "base_uri": "https://localhost:8080/",
          "height": 35
        },
        "outputId": "ac8106ee-c9b2-4f92-94a5-34ec6af5df7c"
      },
      "source": [
        "print(X.shape, y.shape, X_test.shape, y_test.shape)"
      ],
      "execution_count": 35,
      "outputs": [
        {
          "output_type": "stream",
          "text": [
            "(120, 4) (120,) (30, 4) (30,)\n"
          ],
          "name": "stdout"
        }
      ]
    },
    {
      "cell_type": "code",
      "metadata": {
        "id": "MVxqIHPHE4n6",
        "colab_type": "code",
        "colab": {}
      },
      "source": [
        "def grid_seach_knn(X, y, k_neighbors=10, X_test=None, y_test=None):\n",
        "    # X - numpy array (matrix)\n",
        "    # y - numpy array (vector)\n",
        "    clf_knn = KNeighborsClassifier()\n",
        "    param_grid = {\n",
        "    'n_neighbors': np.arange(2, k_neighbors), # can be, [1, 2, 3, 4]\n",
        "    'weights': ['uniform', \"distance\"],\n",
        "    'metric': ['manhattan', 'euclidean']\n",
        "    }\n",
        "\n",
        "    search = GridSearchCV(clf_knn, param_grid, n_jobs=-1, cv=5, refit=True, scoring='accuracy')\n",
        "    search.fit(X, y)\n",
        "\n",
        "    print(search.best_params_)\n",
        "    if (X_test is not None) and (y_test is not None):\n",
        "        print(accuracy_score(y_test, search.best_estimator_.predict(X_test)))\n",
        "    else:\n",
        "        print(accuracy_score(y, search.best_estimator_.predict(X)))\n",
        "    return search.best_estimator_"
      ],
      "execution_count": 0,
      "outputs": []
    },
    {
      "cell_type": "code",
      "metadata": {
        "id": "4RJNcwLnF9HV",
        "colab_type": "code",
        "colab": {
          "base_uri": "https://localhost:8080/",
          "height": 104
        },
        "outputId": "7f13bf7b-ad33-453c-b106-ec9dd5ec4fa9"
      },
      "source": [
        "grid_seach_knn(X, y, X_test=X_test, y_test=y_test)"
      ],
      "execution_count": 43,
      "outputs": [
        {
          "output_type": "stream",
          "text": [
            "{'metric': 'manhattan', 'n_neighbors': 3, 'weights': 'uniform'}\n",
            "1.0\n"
          ],
          "name": "stdout"
        },
        {
          "output_type": "execute_result",
          "data": {
            "text/plain": [
              "KNeighborsClassifier(algorithm='auto', leaf_size=30, metric='manhattan',\n",
              "                     metric_params=None, n_jobs=None, n_neighbors=3, p=2,\n",
              "                     weights='uniform')"
            ]
          },
          "metadata": {
            "tags": []
          },
          "execution_count": 43
        }
      ]
    },
    {
      "cell_type": "code",
      "metadata": {
        "id": "yWiwk1sOGELI",
        "colab_type": "code",
        "colab": {}
      },
      "source": [
        ""
      ],
      "execution_count": 0,
      "outputs": []
    }
  ]
}